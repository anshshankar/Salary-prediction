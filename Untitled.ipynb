{
 "cells": [
  {
   "cell_type": "code",
   "execution_count": 1,
   "id": "e168de80",
   "metadata": {},
   "outputs": [],
   "source": [
    "# Import libraries \n",
    "\n",
    "import numpy as np # linear algebra\n",
    "import pandas as pd # data processing, \n",
    "\n",
    "# Libraries for data visualization\n",
    "import matplotlib.pyplot as pplt  \n",
    "import seaborn as sns \n",
    "from pandas.plotting import scatter_matrix\n",
    "\n",
    "# Import scikit_learn module for the algorithm/model: Linear Regression\n",
    "from sklearn.linear_model import LogisticRegression\n",
    "# Import scikit_learn module to split the dataset into train.test sub-datasets\n",
    "from sklearn.model_selection import train_test_split \n",
    "# Import scikit_learn module for k-fold cross validation\n",
    "from sklearn.model_selection import KFold\n",
    "from sklearn.model_selection import cross_val_score\n",
    "# import the metrics class\n",
    "from sklearn import metrics\n",
    "# import stats for accuracy \n",
    "import statsmodels.api as sm"
   ]
  },
  {
   "cell_type": "code",
   "execution_count": 2,
   "id": "ead95ec6",
   "metadata": {},
   "outputs": [],
   "source": [
    "salary_dataset = pd.read_csv('adult.csv')"
   ]
  },
  {
   "cell_type": "code",
   "execution_count": 3,
   "id": "e3619955",
   "metadata": {},
   "outputs": [
    {
     "name": "stdout",
     "output_type": "stream",
     "text": [
      "<class 'pandas.core.frame.DataFrame'>\n",
      "RangeIndex: 48842 entries, 0 to 48841\n",
      "Data columns (total 15 columns):\n",
      " #   Column           Non-Null Count  Dtype \n",
      "---  ------           --------------  ----- \n",
      " 0   age              48842 non-null  int64 \n",
      " 1   workclass        48842 non-null  object\n",
      " 2   fnlwgt           48842 non-null  int64 \n",
      " 3   education        48842 non-null  object\n",
      " 4   educational-num  48842 non-null  int64 \n",
      " 5   marital-status   48842 non-null  object\n",
      " 6   occupation       48842 non-null  object\n",
      " 7   relationship     48842 non-null  object\n",
      " 8   race             48842 non-null  object\n",
      " 9   gender           48842 non-null  object\n",
      " 10  capital-gain     48842 non-null  int64 \n",
      " 11  capital-loss     48842 non-null  int64 \n",
      " 12  hours-per-week   48842 non-null  int64 \n",
      " 13  native-country   48842 non-null  object\n",
      " 14  income           48842 non-null  object\n",
      "dtypes: int64(6), object(9)\n",
      "memory usage: 5.6+ MB\n"
     ]
    }
   ],
   "source": [
    "salary_dataset.info()"
   ]
  },
  {
   "cell_type": "code",
   "execution_count": 4,
   "id": "9f085a0e",
   "metadata": {},
   "outputs": [
    {
     "data": {
      "text/plain": [
       "age                0\n",
       "workclass          0\n",
       "fnlwgt             0\n",
       "education          0\n",
       "educational-num    0\n",
       "marital-status     0\n",
       "occupation         0\n",
       "relationship       0\n",
       "race               0\n",
       "gender             0\n",
       "capital-gain       0\n",
       "capital-loss       0\n",
       "hours-per-week     0\n",
       "native-country     0\n",
       "income             0\n",
       "dtype: int64"
      ]
     },
     "execution_count": 4,
     "metadata": {},
     "output_type": "execute_result"
    }
   ],
   "source": [
    "salary_dataset.isnull().sum()"
   ]
  },
  {
   "cell_type": "code",
   "execution_count": 5,
   "id": "6c198c49",
   "metadata": {},
   "outputs": [
    {
     "data": {
      "text/plain": [
       "Index(['age', 'workclass', 'fnlwgt', 'education', 'educational-num',\n",
       "       'marital-status', 'occupation', 'relationship', 'race', 'gender',\n",
       "       'capital-gain', 'capital-loss', 'hours-per-week', 'native-country',\n",
       "       'income'],\n",
       "      dtype='object')"
      ]
     },
     "execution_count": 5,
     "metadata": {},
     "output_type": "execute_result"
    }
   ],
   "source": [
    "df = pd.DataFrame(salary_dataset)\n",
    "df.columns"
   ]
  },
  {
   "cell_type": "code",
   "execution_count": 6,
   "id": "3451a79d",
   "metadata": {},
   "outputs": [
    {
     "data": {
      "text/plain": [
       "Index(['age', 'workclass', 'fnlwgt', 'education', 'educational-num', 'marital',\n",
       "       'occupation', 'relationship', 'race', 'gender', 'capital gain',\n",
       "       'capital loss', 'hours per week', 'country', 'income'],\n",
       "      dtype='object')"
      ]
     },
     "execution_count": 6,
     "metadata": {},
     "output_type": "execute_result"
    }
   ],
   "source": [
    "df.rename(columns={'capital-gain': 'capital gain', 'capital-loss': 'capital loss', 'native-country': 'country','hours-per-week': 'hours per week','marital-status': 'marital'}, inplace=True)\n",
    "df.columns"
   ]
  },
  {
   "cell_type": "code",
   "execution_count": 7,
   "id": "d614b484",
   "metadata": {},
   "outputs": [
    {
     "data": {
      "text/plain": [
       "age                   0\n",
       "workclass          2799\n",
       "fnlwgt                0\n",
       "education             0\n",
       "educational-num       0\n",
       "marital               0\n",
       "occupation         2809\n",
       "relationship          0\n",
       "race                  0\n",
       "gender                0\n",
       "capital gain          0\n",
       "capital loss          0\n",
       "hours per week        0\n",
       "country             857\n",
       "income                0\n",
       "dtype: int64"
      ]
     },
     "execution_count": 7,
     "metadata": {},
     "output_type": "execute_result"
    }
   ],
   "source": [
    "df.isin(['?']).sum(axis=0)"
   ]
  },
  {
   "cell_type": "code",
   "execution_count": 8,
   "id": "4e073490",
   "metadata": {},
   "outputs": [
    {
     "data": {
      "text/plain": [
       "(48842, 15)"
      ]
     },
     "execution_count": 8,
     "metadata": {},
     "output_type": "execute_result"
    }
   ],
   "source": [
    "df.shape"
   ]
  },
  {
   "cell_type": "code",
   "execution_count": 9,
   "id": "fcb66671",
   "metadata": {},
   "outputs": [
    {
     "data": {
      "text/plain": [
       "Index(['age', 'workclass', 'fnlwgt', 'education', 'educational-num', 'marital',\n",
       "       'occupation', 'relationship', 'race', 'gender', 'capital gain',\n",
       "       'capital loss', 'hours per week', 'country', 'income'],\n",
       "      dtype='object')"
      ]
     },
     "execution_count": 9,
     "metadata": {},
     "output_type": "execute_result"
    }
   ],
   "source": [
    "df.columns"
   ]
  },
  {
   "cell_type": "code",
   "execution_count": 10,
   "id": "0b4dd68c",
   "metadata": {},
   "outputs": [],
   "source": [
    "# the code will replace the special character to nan and then drop the columns \n",
    "df['country'] = df['country'].replace('?',np.nan)\n",
    "df['workclass'] = df['workclass'].replace('?',np.nan)\n",
    "df['occupation'] = df['occupation'].replace('?',np.nan)"
   ]
  },
  {
   "cell_type": "code",
   "execution_count": 11,
   "id": "44c3a231",
   "metadata": {},
   "outputs": [],
   "source": [
    "#dropping the nan columns now \n",
    "df.dropna(how='any',inplace=True)"
   ]
  },
  {
   "cell_type": "code",
   "execution_count": 12,
   "id": "6cd1a0d0",
   "metadata": {},
   "outputs": [
    {
     "data": {
      "text/plain": [
       "age                0\n",
       "workclass          0\n",
       "fnlwgt             0\n",
       "education          0\n",
       "educational-num    0\n",
       "marital            0\n",
       "occupation         0\n",
       "relationship       0\n",
       "race               0\n",
       "gender             0\n",
       "capital gain       0\n",
       "capital loss       0\n",
       "hours per week     0\n",
       "country            0\n",
       "income             0\n",
       "dtype: int64"
      ]
     },
     "execution_count": 12,
     "metadata": {},
     "output_type": "execute_result"
    }
   ],
   "source": [
    "#Finding if special characters are present in the data \n",
    "df.isin(['?']).sum(axis=0)"
   ]
  },
  {
   "cell_type": "code",
   "execution_count": 13,
   "id": "b657a84b",
   "metadata": {},
   "outputs": [
    {
     "name": "stdout",
     "output_type": "stream",
     "text": [
      "---- age ---\n",
      "36    1283\n",
      "33    1279\n",
      "31    1274\n",
      "35    1272\n",
      "23    1241\n",
      "      ... \n",
      "85       5\n",
      "88       5\n",
      "89       1\n",
      "87       1\n",
      "86       1\n",
      "Name: age, Length: 74, dtype: int64\n",
      "---- workclass ---\n",
      "Private             33307\n",
      "Self-emp-not-inc     3796\n",
      "Local-gov            3100\n",
      "State-gov            1946\n",
      "Self-emp-inc         1646\n",
      "Federal-gov          1406\n",
      "Without-pay            21\n",
      "Name: workclass, dtype: int64\n",
      "---- fnlwgt ---\n",
      "203488    21\n",
      "120277    18\n",
      "125892    18\n",
      "113364    17\n",
      "126569    17\n",
      "          ..\n",
      "152234     1\n",
      "171301     1\n",
      "257764     1\n",
      "168312     1\n",
      "257302     1\n",
      "Name: fnlwgt, Length: 26741, dtype: int64\n",
      "---- education ---\n",
      "HS-grad         14783\n",
      "Some-college     9899\n",
      "Bachelors        7570\n",
      "Masters          2514\n",
      "Assoc-voc        1959\n",
      "11th             1619\n",
      "Assoc-acdm       1507\n",
      "10th             1223\n",
      "7th-8th           823\n",
      "Prof-school       785\n",
      "9th               676\n",
      "12th              577\n",
      "Doctorate         544\n",
      "5th-6th           449\n",
      "1st-4th           222\n",
      "Preschool          72\n",
      "Name: education, dtype: int64\n",
      "---- educational-num ---\n",
      "9     14783\n",
      "10     9899\n",
      "13     7570\n",
      "14     2514\n",
      "11     1959\n",
      "7      1619\n",
      "12     1507\n",
      "6      1223\n",
      "4       823\n",
      "15      785\n",
      "5       676\n",
      "8       577\n",
      "16      544\n",
      "3       449\n",
      "2       222\n",
      "1        72\n",
      "Name: educational-num, dtype: int64\n",
      "---- marital ---\n",
      "Married-civ-spouse       21055\n",
      "Never-married            14598\n",
      "Divorced                  6297\n",
      "Separated                 1411\n",
      "Widowed                   1277\n",
      "Married-spouse-absent      552\n",
      "Married-AF-spouse           32\n",
      "Name: marital, dtype: int64\n",
      "---- occupation ---\n",
      "Craft-repair         6020\n",
      "Prof-specialty       6008\n",
      "Exec-managerial      5984\n",
      "Adm-clerical         5540\n",
      "Sales                5408\n",
      "Other-service        4808\n",
      "Machine-op-inspct    2970\n",
      "Transport-moving     2316\n",
      "Handlers-cleaners    2046\n",
      "Farming-fishing      1480\n",
      "Tech-support         1420\n",
      "Protective-serv       976\n",
      "Priv-house-serv       232\n",
      "Armed-Forces           14\n",
      "Name: occupation, dtype: int64\n",
      "---- relationship ---\n",
      "Husband           18666\n",
      "Not-in-family     11702\n",
      "Own-child          6626\n",
      "Unmarried          4788\n",
      "Wife               2091\n",
      "Other-relative     1349\n",
      "Name: relationship, dtype: int64\n",
      "---- race ---\n",
      "White                 38903\n",
      "Black                  4228\n",
      "Asian-Pac-Islander     1303\n",
      "Amer-Indian-Eskimo      435\n",
      "Other                   353\n",
      "Name: race, dtype: int64\n",
      "---- gender ---\n",
      "Male      30527\n",
      "Female    14695\n",
      "Name: gender, dtype: int64\n",
      "---- capital gain ---\n",
      "0        41432\n",
      "15024      498\n",
      "7688       391\n",
      "7298       351\n",
      "99999      229\n",
      "         ...  \n",
      "22040        1\n",
      "1731         1\n",
      "7262         1\n",
      "1639         1\n",
      "2387         1\n",
      "Name: capital gain, Length: 121, dtype: int64\n",
      "---- capital loss ---\n",
      "0       43082\n",
      "1902      294\n",
      "1977      246\n",
      "1887      228\n",
      "2415       68\n",
      "        ...  \n",
      "419         1\n",
      "155         1\n",
      "1539        1\n",
      "2201        1\n",
      "1421        1\n",
      "Name: capital loss, Length: 97, dtype: int64\n",
      "---- hours per week ---\n",
      "40    21358\n",
      "50     4094\n",
      "45     2602\n",
      "60     2085\n",
      "35     1776\n",
      "      ...  \n",
      "79        1\n",
      "69        1\n",
      "87        1\n",
      "94        1\n",
      "82        1\n",
      "Name: hours per week, Length: 96, dtype: int64\n",
      "---- country ---\n",
      "United-States                 41292\n",
      "Mexico                          903\n",
      "Philippines                     283\n",
      "Germany                         193\n",
      "Puerto-Rico                     175\n",
      "Canada                          163\n",
      "El-Salvador                     147\n",
      "India                           147\n",
      "Cuba                            133\n",
      "England                         119\n",
      "China                           113\n",
      "Jamaica                         103\n",
      "South                           101\n",
      "Italy                           100\n",
      "Dominican-Republic               97\n",
      "Japan                            89\n",
      "Guatemala                        86\n",
      "Vietnam                          83\n",
      "Columbia                         82\n",
      "Poland                           81\n",
      "Haiti                            69\n",
      "Portugal                         62\n",
      "Iran                             56\n",
      "Taiwan                           55\n",
      "Greece                           49\n",
      "Nicaragua                        48\n",
      "Peru                             45\n",
      "Ecuador                          43\n",
      "France                           36\n",
      "Ireland                          36\n",
      "Thailand                         29\n",
      "Hong                             28\n",
      "Cambodia                         26\n",
      "Trinadad&Tobago                  26\n",
      "Yugoslavia                       23\n",
      "Outlying-US(Guam-USVI-etc)       22\n",
      "Laos                             21\n",
      "Scotland                         20\n",
      "Honduras                         19\n",
      "Hungary                          18\n",
      "Holand-Netherlands                1\n",
      "Name: country, dtype: int64\n",
      "---- income ---\n",
      "<=50K    34014\n",
      ">50K     11208\n",
      "Name: income, dtype: int64\n"
     ]
    }
   ],
   "source": [
    "#running a loop for value_counts of each column to find out unique values. \n",
    "for c in df.columns:\n",
    "    print (\"---- %s ---\" % c)\n",
    "    print (df[c].value_counts())"
   ]
  },
  {
   "cell_type": "code",
   "execution_count": 14,
   "id": "0221b2a2",
   "metadata": {},
   "outputs": [
    {
     "data": {
      "text/plain": [
       "Craft-repair         6020\n",
       "Prof-specialty       6008\n",
       "Exec-managerial      5984\n",
       "Adm-clerical         5540\n",
       "Sales                5408\n",
       "Other-service        4808\n",
       "Machine-op-inspct    2970\n",
       "Transport-moving     2316\n",
       "Handlers-cleaners    2046\n",
       "Farming-fishing      1480\n",
       "Tech-support         1420\n",
       "Protective-serv       976\n",
       "Priv-house-serv       232\n",
       "Armed-Forces           14\n",
       "Name: occupation, dtype: int64"
      ]
     },
     "execution_count": 14,
     "metadata": {},
     "output_type": "execute_result"
    }
   ],
   "source": [
    "#checking the Special characters still exists \n",
    "df.occupation.value_counts()"
   ]
  },
  {
   "cell_type": "code",
   "execution_count": 15,
   "id": "4972c2bd",
   "metadata": {},
   "outputs": [
    {
     "data": {
      "text/plain": [
       "United-States                 41292\n",
       "Mexico                          903\n",
       "Philippines                     283\n",
       "Germany                         193\n",
       "Puerto-Rico                     175\n",
       "Canada                          163\n",
       "El-Salvador                     147\n",
       "India                           147\n",
       "Cuba                            133\n",
       "England                         119\n",
       "China                           113\n",
       "Jamaica                         103\n",
       "South                           101\n",
       "Italy                           100\n",
       "Dominican-Republic               97\n",
       "Japan                            89\n",
       "Guatemala                        86\n",
       "Vietnam                          83\n",
       "Columbia                         82\n",
       "Poland                           81\n",
       "Haiti                            69\n",
       "Portugal                         62\n",
       "Iran                             56\n",
       "Taiwan                           55\n",
       "Greece                           49\n",
       "Nicaragua                        48\n",
       "Peru                             45\n",
       "Ecuador                          43\n",
       "France                           36\n",
       "Ireland                          36\n",
       "Thailand                         29\n",
       "Hong                             28\n",
       "Cambodia                         26\n",
       "Trinadad&Tobago                  26\n",
       "Yugoslavia                       23\n",
       "Outlying-US(Guam-USVI-etc)       22\n",
       "Laos                             21\n",
       "Scotland                         20\n",
       "Honduras                         19\n",
       "Hungary                          18\n",
       "Holand-Netherlands                1\n",
       "Name: country, dtype: int64"
      ]
     },
     "execution_count": 15,
     "metadata": {},
     "output_type": "execute_result"
    }
   ],
   "source": [
    "#checking the Special characters still exists \n",
    "df.country.value_counts()"
   ]
  },
  {
   "cell_type": "code",
   "execution_count": 16,
   "id": "86619630",
   "metadata": {},
   "outputs": [],
   "source": [
    "#dropping un-used data from the dataset \n",
    "df.drop(['educational-num','age', 'hours per week', 'fnlwgt', 'capital gain','capital loss', 'country'], axis=1, inplace=True)"
   ]
  },
  {
   "cell_type": "code",
   "execution_count": 17,
   "id": "ddbdf3e9",
   "metadata": {},
   "outputs": [
    {
     "name": "stdout",
     "output_type": "stream",
     "text": [
      "{'>50K', '<=50K'}\n"
     ]
    }
   ],
   "source": [
    "# Let's see how many unique categories we have in this property\n",
    "income = set(df['income'])\n",
    "print(income)"
   ]
  },
  {
   "cell_type": "code",
   "execution_count": 18,
   "id": "64fa2d29",
   "metadata": {},
   "outputs": [],
   "source": [
    "#mapping the data into numerical data using map function\n",
    "df['income'] = df['income'].map({'<=50K': 0, '>50K': 1}).astype(int)"
   ]
  },
  {
   "cell_type": "code",
   "execution_count": 19,
   "id": "ac0f675b",
   "metadata": {},
   "outputs": [
    {
     "data": {
      "text/html": [
       "<div>\n",
       "<style scoped>\n",
       "    .dataframe tbody tr th:only-of-type {\n",
       "        vertical-align: middle;\n",
       "    }\n",
       "\n",
       "    .dataframe tbody tr th {\n",
       "        vertical-align: top;\n",
       "    }\n",
       "\n",
       "    .dataframe thead th {\n",
       "        text-align: right;\n",
       "    }\n",
       "</style>\n",
       "<table border=\"1\" class=\"dataframe\">\n",
       "  <thead>\n",
       "    <tr style=\"text-align: right;\">\n",
       "      <th></th>\n",
       "      <th>workclass</th>\n",
       "      <th>education</th>\n",
       "      <th>marital</th>\n",
       "      <th>occupation</th>\n",
       "      <th>relationship</th>\n",
       "      <th>race</th>\n",
       "      <th>gender</th>\n",
       "      <th>income</th>\n",
       "    </tr>\n",
       "  </thead>\n",
       "  <tbody>\n",
       "    <tr>\n",
       "      <th>0</th>\n",
       "      <td>Private</td>\n",
       "      <td>11th</td>\n",
       "      <td>Never-married</td>\n",
       "      <td>Machine-op-inspct</td>\n",
       "      <td>Own-child</td>\n",
       "      <td>Black</td>\n",
       "      <td>Male</td>\n",
       "      <td>0</td>\n",
       "    </tr>\n",
       "    <tr>\n",
       "      <th>1</th>\n",
       "      <td>Private</td>\n",
       "      <td>HS-grad</td>\n",
       "      <td>Married-civ-spouse</td>\n",
       "      <td>Farming-fishing</td>\n",
       "      <td>Husband</td>\n",
       "      <td>White</td>\n",
       "      <td>Male</td>\n",
       "      <td>0</td>\n",
       "    </tr>\n",
       "    <tr>\n",
       "      <th>2</th>\n",
       "      <td>Local-gov</td>\n",
       "      <td>Assoc-acdm</td>\n",
       "      <td>Married-civ-spouse</td>\n",
       "      <td>Protective-serv</td>\n",
       "      <td>Husband</td>\n",
       "      <td>White</td>\n",
       "      <td>Male</td>\n",
       "      <td>1</td>\n",
       "    </tr>\n",
       "    <tr>\n",
       "      <th>3</th>\n",
       "      <td>Private</td>\n",
       "      <td>Some-college</td>\n",
       "      <td>Married-civ-spouse</td>\n",
       "      <td>Machine-op-inspct</td>\n",
       "      <td>Husband</td>\n",
       "      <td>Black</td>\n",
       "      <td>Male</td>\n",
       "      <td>1</td>\n",
       "    </tr>\n",
       "    <tr>\n",
       "      <th>5</th>\n",
       "      <td>Private</td>\n",
       "      <td>10th</td>\n",
       "      <td>Never-married</td>\n",
       "      <td>Other-service</td>\n",
       "      <td>Not-in-family</td>\n",
       "      <td>White</td>\n",
       "      <td>Male</td>\n",
       "      <td>0</td>\n",
       "    </tr>\n",
       "  </tbody>\n",
       "</table>\n",
       "</div>"
      ],
      "text/plain": [
       "   workclass     education             marital         occupation  \\\n",
       "0    Private          11th       Never-married  Machine-op-inspct   \n",
       "1    Private       HS-grad  Married-civ-spouse    Farming-fishing   \n",
       "2  Local-gov    Assoc-acdm  Married-civ-spouse    Protective-serv   \n",
       "3    Private  Some-college  Married-civ-spouse  Machine-op-inspct   \n",
       "5    Private          10th       Never-married      Other-service   \n",
       "\n",
       "    relationship   race gender  income  \n",
       "0      Own-child  Black   Male       0  \n",
       "1        Husband  White   Male       0  \n",
       "2        Husband  White   Male       1  \n",
       "3        Husband  Black   Male       1  \n",
       "5  Not-in-family  White   Male       0  "
      ]
     },
     "execution_count": 19,
     "metadata": {},
     "output_type": "execute_result"
    }
   ],
   "source": [
    "#check the data is replaced \n",
    "df.head()"
   ]
  },
  {
   "cell_type": "code",
   "execution_count": 20,
   "id": "383e7d06",
   "metadata": {},
   "outputs": [
    {
     "name": "stdout",
     "output_type": "stream",
     "text": [
      "{'Male', 'Female'}\n"
     ]
    }
   ],
   "source": [
    "# Let's see how many unique categories we have in this gender property\n",
    "gender = set(df['gender'])\n",
    "print(gender)"
   ]
  },
  {
   "cell_type": "code",
   "execution_count": 21,
   "id": "bf5941ea",
   "metadata": {},
   "outputs": [],
   "source": [
    "#Mapping the values to numerical values \n",
    "df['gender'] = df['gender'].map({'Male': 0, 'Female': 1}).astype(int)"
   ]
  },
  {
   "cell_type": "code",
   "execution_count": 22,
   "id": "34b87f28",
   "metadata": {},
   "outputs": [
    {
     "name": "stdout",
     "output_type": "stream",
     "text": [
      "{'Black', 'Other', 'Asian-Pac-Islander', 'White', 'Amer-Indian-Eskimo'}\n"
     ]
    }
   ],
   "source": [
    "# How many unique races we got here?\n",
    "race = set(df['race'])\n",
    "print(race)"
   ]
  },
  {
   "cell_type": "code",
   "execution_count": 23,
   "id": "ea1b1a9e",
   "metadata": {},
   "outputs": [],
   "source": [
    "#Mapping the values to numerical values \n",
    "df['race'] = df['race'].map({'Black': 0, 'Asian-Pac-Islander': 1, 'Other': 2, 'White': 3, \n",
    "                                             'Amer-Indian-Eskimo': 4}).astype(int)"
   ]
  },
  {
   "cell_type": "code",
   "execution_count": 24,
   "id": "9197de19",
   "metadata": {},
   "outputs": [
    {
     "name": "stdout",
     "output_type": "stream",
     "text": [
      "{'Separated', 'Married-AF-spouse', 'Never-married', 'Married-civ-spouse', 'Married-spouse-absent', 'Divorced', 'Widowed'}\n"
     ]
    }
   ],
   "source": [
    "# How many unique races we got here?\n",
    "Marital = set(df['marital'])\n",
    "print(Marital)"
   ]
  },
  {
   "cell_type": "code",
   "execution_count": 25,
   "id": "f6333b86",
   "metadata": {},
   "outputs": [],
   "source": [
    "#Mapping the values to numerical values \n",
    "df['marital'] = df['marital'].map({'Married-spouse-absent': 0, 'Widowed': 1, \n",
    "                                                             'Married-civ-spouse': 2, 'Separated': 3, 'Divorced': 4, \n",
    "                                                             'Never-married': 5, 'Married-AF-spouse': 6}).astype(int)\n"
   ]
  },
  {
   "cell_type": "code",
   "execution_count": 26,
   "id": "dae21c53",
   "metadata": {},
   "outputs": [
    {
     "name": "stdout",
     "output_type": "stream",
     "text": [
      "{'Self-emp-inc', 'Federal-gov', 'State-gov', 'Local-gov', 'Without-pay', 'Private', 'Self-emp-not-inc'}\n"
     ]
    }
   ],
   "source": [
    "# How many unique Workclass we got here?\n",
    "emp = set(df['workclass'])\n",
    "print(emp)"
   ]
  },
  {
   "cell_type": "code",
   "execution_count": 27,
   "id": "6e5a1137",
   "metadata": {},
   "outputs": [],
   "source": [
    "#Mapping the values to numerical values\n",
    "df['workclass'] = df['workclass'].map({'Self-emp-inc': 0, 'State-gov': 1, \n",
    "                                                             'Federal-gov': 2, 'Without-pay': 3, 'Local-gov': 4, \n",
    "                                                             'Private': 5, 'Self-emp-not-inc': 6}).astype(int)"
   ]
  },
  {
   "cell_type": "code",
   "execution_count": 28,
   "id": "73c60a76",
   "metadata": {},
   "outputs": [
    {
     "name": "stdout",
     "output_type": "stream",
     "text": [
      "{'Assoc-acdm', 'Doctorate', 'Bachelors', 'Prof-school', 'Preschool', '9th', '7th-8th', 'HS-grad', 'Assoc-voc', '12th', 'Some-college', '10th', 'Masters', '11th', '5th-6th', '1st-4th'}\n"
     ]
    }
   ],
   "source": [
    "# How many unique Education we got here?\n",
    "ed = set(df['education'])\n",
    "print(ed)"
   ]
  },
  {
   "cell_type": "code",
   "execution_count": 29,
   "id": "b6035002",
   "metadata": {},
   "outputs": [],
   "source": [
    "#Mapping the values to numerical values\n",
    "df['education'] = df['education'].map({'Some-college': 0, 'Preschool': 1, \n",
    "                                                        '5th-6th': 2, 'HS-grad': 3, 'Masters': 4, \n",
    "                                                        '12th': 5, '7th-8th': 6, 'Prof-school': 7,\n",
    "                                                        '1st-4th': 8, 'Assoc-acdm': 9,\n",
    "                                                        'Doctorate': 10, '11th': 11,\n",
    "                                                        'Bachelors': 12, '10th': 13,\n",
    "                                                        'Assoc-voc': 14,\n",
    "                                                        '9th': 15}).astype(int)"
   ]
  },
  {
   "cell_type": "code",
   "execution_count": 30,
   "id": "609325fc",
   "metadata": {},
   "outputs": [
    {
     "name": "stdout",
     "output_type": "stream",
     "text": [
      "{'Transport-moving', 'Farming-fishing', 'Tech-support', 'Handlers-cleaners', 'Machine-op-inspct', 'Adm-clerical', 'Priv-house-serv', 'Other-service', 'Prof-specialty', 'Exec-managerial', 'Craft-repair', 'Sales', 'Protective-serv', 'Armed-Forces'}\n"
     ]
    }
   ],
   "source": [
    "# Let's see how many unique categories we have in this Occupation property after cleaning it \n",
    "occupation = set(df['occupation'])\n",
    "print(occupation)"
   ]
  },
  {
   "cell_type": "code",
   "execution_count": 32,
   "id": "9db4acc8",
   "metadata": {},
   "outputs": [],
   "source": [
    "# Now we classify them as numbers instead of their names.\n",
    "df['occupation'] = df['occupation'].map({ 'Farming-fishing': 1, 'Tech-support': 2, \n",
    "                                          'Adm-clerical': 3, 'Handlers-cleaners': 4, \n",
    "                                         'Prof-specialty': 5,'Machine-op-inspct': 6, \n",
    "                                         'Exec-managerial': 7, \n",
    "                                         'Priv-house-serv': 8,\n",
    "                                         'Craft-repair': 9, \n",
    "                                         'Sales': 10, \n",
    "                                         'Transport-moving': 11, \n",
    "                                         'Armed-Forces': 12, \n",
    "                                         'Other-service': 13,  'Protective-serv': 14}).astype(int)"
   ]
  },
  {
   "cell_type": "code",
   "execution_count": 33,
   "id": "2e059644",
   "metadata": {},
   "outputs": [
    {
     "name": "stdout",
     "output_type": "stream",
     "text": [
      "{'Other-relative', 'Wife', 'Not-in-family', 'Own-child', 'Husband', 'Unmarried'}\n"
     ]
    }
   ],
   "source": [
    "# How many unique Relationship we got here?\n",
    "relationship = set(df['relationship'])\n",
    "print(relationship)"
   ]
  },
  {
   "cell_type": "code",
   "execution_count": 34,
   "id": "04c7979f",
   "metadata": {},
   "outputs": [],
   "source": [
    "#Mapping the values to numerical values\n",
    "df['relationship'] = df['relationship'].map({'Not-in-family': 0, 'Wife': 1, \n",
    "                                                             'Other-relative': 2, \n",
    "                                                             'Unmarried': 3, \n",
    "                                                             'Husband': 4, \n",
    "                                                             'Own-child': 5}).astype(int)"
   ]
  },
  {
   "cell_type": "code",
   "execution_count": 35,
   "id": "91b99570",
   "metadata": {},
   "outputs": [
    {
     "data": {
      "text/html": [
       "<div>\n",
       "<style scoped>\n",
       "    .dataframe tbody tr th:only-of-type {\n",
       "        vertical-align: middle;\n",
       "    }\n",
       "\n",
       "    .dataframe tbody tr th {\n",
       "        vertical-align: top;\n",
       "    }\n",
       "\n",
       "    .dataframe thead th {\n",
       "        text-align: right;\n",
       "    }\n",
       "</style>\n",
       "<table border=\"1\" class=\"dataframe\">\n",
       "  <thead>\n",
       "    <tr style=\"text-align: right;\">\n",
       "      <th></th>\n",
       "      <th>workclass</th>\n",
       "      <th>education</th>\n",
       "      <th>marital</th>\n",
       "      <th>occupation</th>\n",
       "      <th>relationship</th>\n",
       "      <th>race</th>\n",
       "      <th>gender</th>\n",
       "      <th>income</th>\n",
       "    </tr>\n",
       "  </thead>\n",
       "  <tbody>\n",
       "    <tr>\n",
       "      <th>0</th>\n",
       "      <td>5</td>\n",
       "      <td>11</td>\n",
       "      <td>5</td>\n",
       "      <td>6</td>\n",
       "      <td>5</td>\n",
       "      <td>0</td>\n",
       "      <td>0</td>\n",
       "      <td>0</td>\n",
       "    </tr>\n",
       "    <tr>\n",
       "      <th>1</th>\n",
       "      <td>5</td>\n",
       "      <td>3</td>\n",
       "      <td>2</td>\n",
       "      <td>1</td>\n",
       "      <td>4</td>\n",
       "      <td>3</td>\n",
       "      <td>0</td>\n",
       "      <td>0</td>\n",
       "    </tr>\n",
       "    <tr>\n",
       "      <th>2</th>\n",
       "      <td>4</td>\n",
       "      <td>9</td>\n",
       "      <td>2</td>\n",
       "      <td>14</td>\n",
       "      <td>4</td>\n",
       "      <td>3</td>\n",
       "      <td>0</td>\n",
       "      <td>1</td>\n",
       "    </tr>\n",
       "    <tr>\n",
       "      <th>3</th>\n",
       "      <td>5</td>\n",
       "      <td>0</td>\n",
       "      <td>2</td>\n",
       "      <td>6</td>\n",
       "      <td>4</td>\n",
       "      <td>0</td>\n",
       "      <td>0</td>\n",
       "      <td>1</td>\n",
       "    </tr>\n",
       "    <tr>\n",
       "      <th>5</th>\n",
       "      <td>5</td>\n",
       "      <td>13</td>\n",
       "      <td>5</td>\n",
       "      <td>13</td>\n",
       "      <td>0</td>\n",
       "      <td>3</td>\n",
       "      <td>0</td>\n",
       "      <td>0</td>\n",
       "    </tr>\n",
       "    <tr>\n",
       "      <th>7</th>\n",
       "      <td>6</td>\n",
       "      <td>7</td>\n",
       "      <td>2</td>\n",
       "      <td>5</td>\n",
       "      <td>4</td>\n",
       "      <td>3</td>\n",
       "      <td>0</td>\n",
       "      <td>1</td>\n",
       "    </tr>\n",
       "    <tr>\n",
       "      <th>8</th>\n",
       "      <td>5</td>\n",
       "      <td>0</td>\n",
       "      <td>5</td>\n",
       "      <td>13</td>\n",
       "      <td>3</td>\n",
       "      <td>3</td>\n",
       "      <td>1</td>\n",
       "      <td>0</td>\n",
       "    </tr>\n",
       "    <tr>\n",
       "      <th>9</th>\n",
       "      <td>5</td>\n",
       "      <td>6</td>\n",
       "      <td>2</td>\n",
       "      <td>9</td>\n",
       "      <td>4</td>\n",
       "      <td>3</td>\n",
       "      <td>0</td>\n",
       "      <td>0</td>\n",
       "    </tr>\n",
       "    <tr>\n",
       "      <th>10</th>\n",
       "      <td>5</td>\n",
       "      <td>3</td>\n",
       "      <td>2</td>\n",
       "      <td>6</td>\n",
       "      <td>4</td>\n",
       "      <td>3</td>\n",
       "      <td>0</td>\n",
       "      <td>1</td>\n",
       "    </tr>\n",
       "    <tr>\n",
       "      <th>11</th>\n",
       "      <td>2</td>\n",
       "      <td>12</td>\n",
       "      <td>2</td>\n",
       "      <td>3</td>\n",
       "      <td>4</td>\n",
       "      <td>3</td>\n",
       "      <td>0</td>\n",
       "      <td>0</td>\n",
       "    </tr>\n",
       "  </tbody>\n",
       "</table>\n",
       "</div>"
      ],
      "text/plain": [
       "    workclass  education  marital  occupation  relationship  race  gender  \\\n",
       "0           5         11        5           6             5     0       0   \n",
       "1           5          3        2           1             4     3       0   \n",
       "2           4          9        2          14             4     3       0   \n",
       "3           5          0        2           6             4     0       0   \n",
       "5           5         13        5          13             0     3       0   \n",
       "7           6          7        2           5             4     3       0   \n",
       "8           5          0        5          13             3     3       1   \n",
       "9           5          6        2           9             4     3       0   \n",
       "10          5          3        2           6             4     3       0   \n",
       "11          2         12        2           3             4     3       0   \n",
       "\n",
       "    income  \n",
       "0        0  \n",
       "1        0  \n",
       "2        1  \n",
       "3        1  \n",
       "5        0  \n",
       "7        1  \n",
       "8        0  \n",
       "9        0  \n",
       "10       1  \n",
       "11       0  "
      ]
     },
     "execution_count": 35,
     "metadata": {},
     "output_type": "execute_result"
    }
   ],
   "source": [
    "#displaying the cleaned data to see if the map as worked\n",
    "df.head(10)\n",
    "#Now below we see all the data is numerical data that is proper for our data feature analysis "
   ]
  },
  {
   "cell_type": "code",
   "execution_count": 36,
   "id": "a15eb11a",
   "metadata": {},
   "outputs": [
    {
     "data": {
      "text/plain": [
       "<AxesSubplot:xlabel='education'>"
      ]
     },
     "execution_count": 36,
     "metadata": {},
     "output_type": "execute_result"
    },
    {
     "data": {
      "image/png": "[encoded data removed]",
      "text/plain": [
       "<Figure size 432x288 with 1 Axes>"
      ]
     },
     "metadata": {
      "needs_background": "light"
     },
     "output_type": "display_data"
    }
   ],
   "source": [
    "#plotting a bar graph for Education against Income to see the co-relation between these columns \n",
    "df.groupby('education').income.mean().plot(kind='bar')"
   ]
  },
  {
   "cell_type": "code",
   "execution_count": 37,
   "id": "6c477038",
   "metadata": {},
   "outputs": [
    {
     "data": {
      "text/plain": [
       "<AxesSubplot:xlabel='occupation'>"
      ]
     },
     "execution_count": 37,
     "metadata": {},
     "output_type": "execute_result"
    },
    {
     "data": {
      "image/png": "[encoded data removed]",
      "text/plain": [
       "<Figure size 432x288 with 1 Axes>"
      ]
     },
     "metadata": {
      "needs_background": "light"
     },
     "output_type": "display_data"
    }
   ],
   "source": [
    "#plotting a bar graph for Occupation against Income to see the co-relation between these columns \n",
    "df.groupby('occupation').income.mean().plot(kind='bar')"
   ]
  },
  {
   "cell_type": "code",
   "execution_count": 38,
   "id": "d73c2d63",
   "metadata": {},
   "outputs": [
    {
     "data": {
      "text/plain": [
       "<AxesSubplot:xlabel='relationship'>"
      ]
     },
     "execution_count": 38,
     "metadata": {},
     "output_type": "execute_result"
    },
    {
     "data": {
      "image/png": "[encoded data removed]",
      "text/plain": [
       "<Figure size 432x288 with 1 Axes>"
      ]
     },
     "metadata": {
      "needs_background": "light"
     },
     "output_type": "display_data"
    }
   ],
   "source": [
    "#plotting a bar graph for Relationship against Income to see the co-relation between these columns \n",
    "df.groupby('relationship').income.mean().plot(kind='bar')"
   ]
  },
  {
   "cell_type": "code",
   "execution_count": 39,
   "id": "1bf14af6",
   "metadata": {},
   "outputs": [
    {
     "data": {
      "text/plain": [
       "<AxesSubplot:xlabel='race'>"
      ]
     },
     "execution_count": 39,
     "metadata": {},
     "output_type": "execute_result"
    },
    {
     "data": {
      "image/png": "[encoded data removed]",
      "text/plain": [
       "<Figure size 432x288 with 1 Axes>"
      ]
     },
     "metadata": {
      "needs_background": "light"
     },
     "output_type": "display_data"
    }
   ],
   "source": [
    "#plotting a bar graph for Race against Income to see the co-relation between these columns \n",
    "df.groupby('race').income.mean().plot(kind='bar')"
   ]
  },
  {
   "cell_type": "code",
   "execution_count": 40,
   "id": "6f01de48",
   "metadata": {},
   "outputs": [
    {
     "data": {
      "text/plain": [
       "<AxesSubplot:xlabel='gender'>"
      ]
     },
     "execution_count": 40,
     "metadata": {},
     "output_type": "execute_result"
    },
    {
     "data": {
      "image/png": "[encoded data removed]",
      "text/plain": [
       "<Figure size 432x288 with 1 Axes>"
      ]
     },
     "metadata": {
      "needs_background": "light"
     },
     "output_type": "display_data"
    }
   ],
   "source": [
    "#plotting a bar graph for Race against Income to see the co-relation between these columns \n",
    "df.groupby('gender').income.mean().plot(kind='bar')"
   ]
  },
  {
   "cell_type": "code",
   "execution_count": 41,
   "id": "6c274366",
   "metadata": {},
   "outputs": [
    {
     "data": {
      "text/plain": [
       "<AxesSubplot:xlabel='workclass'>"
      ]
     },
     "execution_count": 41,
     "metadata": {},
     "output_type": "execute_result"
    },
    {
     "data": {
      "image/png": "[encoded data removed]",
      "text/plain": [
       "<Figure size 432x288 with 1 Axes>"
      ]
     },
     "metadata": {
      "needs_background": "light"
     },
     "output_type": "display_data"
    }
   ],
   "source": [
    "#plotting a bar graph for Race against Income to see the co-relation between these columns \n",
    "df.groupby('workclass').income.mean().plot(kind='bar')"
   ]
  },
  {
   "cell_type": "code",
   "execution_count": 42,
   "id": "d8ccf0dc",
   "metadata": {},
   "outputs": [
    {
     "data": {
      "text/plain": [
       "<AxesSubplot:xlabel='marital'>"
      ]
     },
     "execution_count": 42,
     "metadata": {},
     "output_type": "execute_result"
    },
    {
     "data": {
      "image/png": "[encoded data removed]",
      "text/plain": [
       "<Figure size 432x288 with 1 Axes>"
      ]
     },
     "metadata": {
      "needs_background": "light"
     },
     "output_type": "display_data"
    }
   ],
   "source": [
    "#plotting a bar graph for Race against Income to see the co-relation between these columns \n",
    "df.groupby('marital').income.mean().plot(kind='bar')"
   ]
  },
  {
   "cell_type": "code",
   "execution_count": 43,
   "id": "09b639fa",
   "metadata": {},
   "outputs": [
    {
     "data": {
      "image/png": "[encoded data removed]",
      "text/plain": [
       "<Figure size 864x648 with 2 Axes>"
      ]
     },
     "metadata": {
      "needs_background": "light"
     },
     "output_type": "display_data"
    }
   ],
   "source": [
    "# use the heatmap function from seaborn to plot the correlation matrix\n",
    "# annot = True to print the values inside the square\n",
    "corrmat = df.corr()\n",
    "f, ax = pplt.subplots(figsize=(12, 9))\n",
    "k = 8 #number of variables for heatmap\n",
    "cols = corrmat.nlargest(k, 'income')['income'].index\n",
    "cm = np.corrcoef(df[cols].values.T)\n",
    "sns.set(font_scale=1.25)\n",
    "hm = sns.heatmap(cm, cbar=True, annot=True, square=True, fmt='.2f', annot_kws={'size': 10}, yticklabels=cols.values, xticklabels=cols.values)\n",
    "pplt.show()\n",
    "\n",
    "#below we see that there is relation between Relationship, Education, Race, Occupation and Income which is our target \n",
    "#columns to predict so, doing more feature analysis on these columns "
   ]
  },
  {
   "cell_type": "code",
   "execution_count": 44,
   "id": "6617bf73",
   "metadata": {},
   "outputs": [
    {
     "data": {
      "image/png": "[encoded data removed]",
      "text/plain": [
       "<Figure size 864x648 with 9 Axes>"
      ]
     },
     "metadata": {},
     "output_type": "display_data"
    }
   ],
   "source": [
    "# Plot histogram for each numeric variable/attribute of the dataset\n",
    "\n",
    "df.hist(figsize=(12,9))\n",
    "pplt.show()"
   ]
  },
  {
   "cell_type": "code",
   "execution_count": 45,
   "id": "e74692d7",
   "metadata": {},
   "outputs": [
    {
     "data": {
      "image/png": "[encoded data removed]",
      "text/plain": [
       "<Figure size 864x1152 with 16 Axes>"
      ]
     },
     "metadata": {},
     "output_type": "display_data"
    }
   ],
   "source": [
    "# Density plots\n",
    "\n",
    "df.plot(kind='density', subplots=True, layout=(4,4), sharex=False, legend=True, fontsize=1, figsize=(12,16))\n",
    "pplt.show()"
   ]
  },
  {
   "cell_type": "code",
   "execution_count": 46,
   "id": "2e87eaca",
   "metadata": {},
   "outputs": [
    {
     "data": {
      "text/plain": [
       "Index(['workclass', 'education', 'marital', 'occupation', 'relationship',\n",
       "       'race', 'gender', 'income'],\n",
       "      dtype='object')"
      ]
     },
     "execution_count": 46,
     "metadata": {},
     "output_type": "execute_result"
    }
   ],
   "source": [
    "df.columns"
   ]
  },
  {
   "cell_type": "code",
   "execution_count": 47,
   "id": "c5f98877",
   "metadata": {},
   "outputs": [],
   "source": [
    "#Transform the data set into a data frame \n",
    "#NOTE: cleaned_data = the data we want, \n",
    "#      X axis = We concatenate the Relationship, Education,Race,Occupation columns using np.c_ provided by the numpy library\n",
    "#      Y axis = Our target variable or the income of adult i.e Income\n",
    "df_x = pd.DataFrame(df)\n",
    "df_x = pd.DataFrame(np.c_[df['relationship'], df['education'], df['race'],df['occupation'],df['gender'],df['marital'],df['workclass']], \n",
    "                    columns = ['relationship','education','race','occupation','gender','marital','workclass'])\n",
    "df_y = pd.DataFrame(df.income)"
   ]
  },
  {
   "cell_type": "code",
   "execution_count": 48,
   "id": "f96bf488",
   "metadata": {},
   "outputs": [
    {
     "name": "stdout",
     "output_type": "stream",
     "text": [
      "(30298, 7)\n",
      "(14924, 7)\n",
      "(30298, 1)\n",
      "(14924, 1)\n"
     ]
    },
    {
     "name": "stderr",
     "output_type": "stream",
     "text": [
      "C:\\Users\\Ansh_om\\anaconda3\\lib\\site-packages\\sklearn\\utils\\validation.py:63: DataConversionWarning: A column-vector y was passed when a 1d array was expected. Please change the shape of y to (n_samples, ), for example using ravel().\n",
      "  return f(*args, **kwargs)\n"
     ]
    }
   ],
   "source": [
    "#Initialize the linear regression model\n",
    "reg = LogisticRegression()\n",
    "#Split the data into 67% training and 33% testing data\n",
    "#NOTE: We have to split the dependent variables (x) and the target or independent variable (y)\n",
    "x_train, x_test, y_train, y_test = train_test_split(df_x, df_y, test_size=0.33, random_state=42)\n",
    "#Train our model with the training data\n",
    "reg.fit(x_train, y_train)\n",
    "print(x_train.shape)\n",
    "print(x_test.shape)\n",
    "print(y_train.shape)\n",
    "print(y_test.shape)"
   ]
  },
  {
   "cell_type": "code",
   "execution_count": 49,
   "id": "727c542d",
   "metadata": {},
   "outputs": [],
   "source": [
    "#print our price predictions on our test data\n",
    "y_pred = reg.predict(x_test)"
   ]
  },
  {
   "cell_type": "code",
   "execution_count": 50,
   "id": "49a7eaa7",
   "metadata": {},
   "outputs": [],
   "source": [
    "# Store dataframe values into a numpy array\n",
    "array = df.values\n",
    "\n",
    "# Separate array into input and output components by slicing\n",
    "# For X (input) [:, 0:0] = all the rows, columns from 0 - 13\n",
    "# Independent variables - input\n",
    "X = array[:, 0:6]\n",
    "\n",
    "# For Y (output) [:, 7] = all the rows, columns index 7 (last column)\n",
    "# Dependent variable = output\n",
    "Y = array[:,7]"
   ]
  },
  {
   "cell_type": "code",
   "execution_count": 51,
   "id": "0ee9a3c5",
   "metadata": {},
   "outputs": [
    {
     "data": {
      "text/plain": [
       "array([0])"
      ]
     },
     "execution_count": 51,
     "metadata": {},
     "output_type": "execute_result"
    }
   ],
   "source": [
    "#df['relationship'], df['education'], df['race'],df['occupation'],df['gender'],df['marital'],df['workclass']\n",
    "reg.predict([[5,11,0,6,0,5,5]])"
   ]
  },
  {
   "cell_type": "code",
   "execution_count": 52,
   "id": "6d836006",
   "metadata": {},
   "outputs": [
    {
     "data": {
      "text/plain": [
       "array([1])"
      ]
     },
     "execution_count": 52,
     "metadata": {},
     "output_type": "execute_result"
    }
   ],
   "source": [
    "#Predicting the target value that is if income is <=50K then 0 if not 1 with x-axis columns as given below\n",
    "reg.predict([[1,7,3,7,0,2,0]])"
   ]
  },
  {
   "cell_type": "code",
   "execution_count": 53,
   "id": "be7eb97e",
   "metadata": {},
   "outputs": [
    {
     "data": {
      "text/plain": [
       "array([1])"
      ]
     },
     "execution_count": 53,
     "metadata": {},
     "output_type": "execute_result"
    }
   ],
   "source": [
    "#Predicting the target value that is if income is <=50K then 0 if not 1 with x-axis columns as given below\n",
    "reg.predict([[4,12,3,7,0,0,0]])"
   ]
  },
  {
   "cell_type": "code",
   "execution_count": 54,
   "id": "af73e2bc",
   "metadata": {},
   "outputs": [
    {
     "data": {
      "text/plain": [
       "array([[10529,   703],\n",
       "       [ 2874,   818]], dtype=int64)"
      ]
     },
     "execution_count": 54,
     "metadata": {},
     "output_type": "execute_result"
    }
   ],
   "source": [
    "#confusion matrix \n",
    "cnf_matrix = metrics.confusion_matrix(y_test, y_pred)\n",
    "cnf_matrix"
   ]
  },
  {
   "cell_type": "code",
   "execution_count": 55,
   "id": "cf818532",
   "metadata": {},
   "outputs": [
    {
     "name": "stdout",
     "output_type": "stream",
     "text": [
      "Accuracy: 0.7603189493433395\n"
     ]
    }
   ],
   "source": [
    "print(\"Accuracy:\",metrics.accuracy_score(y_test, y_pred))\n"
   ]
  },
  {
   "cell_type": "code",
   "execution_count": null,
   "id": "28854d71",
   "metadata": {},
   "outputs": [],
   "source": []
  }
 ],
 "metadata": {
  "kernelspec": {
   "display_name": "Python 3",
   "language": "python",
   "name": "python3"
  },
  "language_info": {
   "codemirror_mode": {
    "name": "ipython",
    "version": 3
   },
   "file_extension": ".py",
   "mimetype": "text/x-python",
   "name": "python",
   "nbconvert_exporter": "python",
   "pygments_lexer": "ipython3",
   "version": "3.8.8"
  }
 },
 "nbformat": 4,
 "nbformat_minor": 5
}
